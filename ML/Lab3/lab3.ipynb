{
 "cells": [
  {
   "cell_type": "markdown",
   "metadata": {},
   "source": [
    "# Lab3"
   ]
  },
  {
   "cell_type": "code",
   "execution_count": 1,
   "metadata": {
    "ExecuteTime": {
     "end_time": "2024-03-19T13:24:43.092604Z",
     "start_time": "2024-03-19T13:24:37.934085Z"
    }
   },
   "outputs": [],
   "source": [
    "import numpy as np\n",
    "import matplotlib.pyplot as plt\n",
    "import csv\n",
    "from sklearn import datasets\n",
    "from sklearn.model_selection import train_test_split\n",
    "import math\n"
   ]
  },
  {
   "cell_type": "code",
   "execution_count": 2,
   "metadata": {
    "ExecuteTime": {
     "end_time": "2024-03-19T13:24:43.123844Z",
     "start_time": "2024-03-19T13:24:43.092604Z"
    }
   },
   "outputs": [],
   "source": [
    "def h_fun(X, theta):\n",
    "    z = theta.T @ X\n",
    "    h = 1.0 / (1.0 + np.exp(-z))\n",
    "    return h\n",
    "\n",
    "def calculate_cost(X, y, theta):\n",
    "    h = h_fun(X, theta)\n",
    "    y_1 = -y * np.log(h)\n",
    "    y_0 = -(1-y) * np.log(1 - h)\n",
    "    return (y_1 + y_0).sum() / X.shape[1]"
   ]
  },
  {
   "cell_type": "code",
   "execution_count": 3,
   "metadata": {
    "ExecuteTime": {
     "end_time": "2024-03-19T13:24:43.170724Z",
     "start_time": "2024-03-19T13:24:43.123844Z"
    }
   },
   "outputs": [],
   "source": [
    "def logistic_regression(X, y, theta, epsilon, learning_rate):\n",
    "    prev_cost = 0\n",
    "    cost = calculate_cost(X, y, theta)\n",
    "    m = X.shape[1]\n",
    "\n",
    "    while abs(cost - prev_cost) > epsilon:\n",
    "        prev_cost = cost\n",
    "        h_y_diff = (h_fun(X, theta) - y)\n",
    "        gradient = h_y_diff @ X.T\n",
    "        theta = theta - learning_rate * (gradient.T / m)\n",
    "        cost = calculate_cost(X, y, theta)\n",
    "\n",
    "    return theta"
   ]
  },
  {
   "cell_type": "code",
   "execution_count": 4,
   "metadata": {
    "ExecuteTime": {
     "end_time": "2024-03-19T13:24:43.170724Z",
     "start_time": "2024-03-19T13:24:43.139477Z"
    }
   },
   "outputs": [],
   "source": [
    "def if_belongs(X, theta):\n",
    "    n = X.shape[1]\n",
    "    m = X.shape[0]\n",
    "    belongs = [[], []]\n",
    "    not_belongs = [[], []]\n",
    "\n",
    "    for index in range(n):\n",
    "        if h_fun(X[:, index], theta) >= 0.5:\n",
    "            belongs[0].append(X[1, index])\n",
    "            belongs[1].append(1)\n",
    "        else:\n",
    "            not_belongs[0].append(X[1, index])\n",
    "            not_belongs[1].append(0)\n",
    "\n",
    "    return np.array(belongs), np.array(not_belongs)"
   ]
  },
  {
   "cell_type": "code",
   "execution_count": 5,
   "metadata": {
    "ExecuteTime": {
     "end_time": "2024-03-19T12:49:36.840051Z",
     "start_time": "2024-03-19T12:48:23.964717Z"
    }
   },
   "outputs": [],
   "source": [
    "X = np.array([[1.0, 1.0, 1.0, 1.0, 1.0, 1.0, 1.0, 1.0],\n",
    "              [0.3, 0.8, 1.7, 2.4, 2.9, 3.1, 4.5, 6.1]])\n",
    "y = np.array([[0.0, 0.0, 0.0, 0.0, 1.0, 1.0, 1.0, 1.0]])\n",
    "\n",
    "theta = np.array([[0], [0]])\n",
    "eps = 1e-8\n",
    "alpha = 0.001\n",
    "\n",
    "theta = logistic_regression(X, y, theta, eps, alpha)"
   ]
  },
  {
   "cell_type": "code",
   "execution_count": 6,
   "metadata": {
    "ExecuteTime": {
     "end_time": "2024-03-19T12:49:37.010923Z",
     "start_time": "2024-03-19T12:49:36.845086Z"
    }
   },
   "outputs": [
    {
     "data": {
      "image/png": "[encoded data removed]",
      "text/plain": [
       "<Figure size 640x480 with 1 Axes>"
      ]
     },
     "metadata": {},
     "output_type": "display_data"
    }
   ],
   "source": [
    "t = np.arange(0, 6.01, 0.01)\n",
    "plot_t = np.array([np.repeat(1, len(t)), t])\n",
    "plt.plot(plot_t[1, :], h_fun(plot_t, theta).T)\n",
    "belongs, not_belongs = if_belongs(X, theta)\n",
    "plt.scatter(belongs[0, :], belongs[1, :], marker='*', edgecolors='r')\n",
    "plt.scatter(not_belongs[0, :], not_belongs[1, :], marker='o', color='g')\n",
    "plt.axvline(x=-theta[0] / theta[1], ymin=0, ymax=1, color='y')\n",
    "plt.legend([\"h(x)\", \"belongs\", \"not belongs\", \"decision boundary\"])\n",
    "plt.grid(\"on\")\n",
    "plt.show()"
   ]
  },
  {
   "cell_type": "markdown",
   "metadata": {},
   "source": [
    "### Zadanie 2"
   ]
  },
  {
   "cell_type": "code",
   "execution_count": 7,
   "metadata": {
    "ExecuteTime": {
     "end_time": "2024-03-19T12:49:37.025170Z",
     "start_time": "2024-03-19T12:49:37.014149Z"
    }
   },
   "outputs": [],
   "source": [
    "with open(\"./admission.txt\") as f:\n",
    "    csv_reader = csv.reader(f)\n",
    "    examples = []\n",
    "    for row in csv_reader:\n",
    "        examples.append([float(cell) for cell in row])\n",
    "    data = np.array(examples)\n",
    "    y = data[:, 2:3].T\n",
    "    x = data[:, :2].T\n",
    "    X = np.concatenate([np.ones([1, x.shape[1]]), x])\n",
    "\n",
    "X.shape=(3, 100)\n",
    "y.shape=(1, 100)"
   ]
  },
  {
   "cell_type": "code",
   "execution_count": 8,
   "metadata": {
    "ExecuteTime": {
     "end_time": "2024-03-19T12:49:37.096679Z",
     "start_time": "2024-03-19T12:49:37.029174Z"
    }
   },
   "outputs": [],
   "source": [
    "def if_belongs_2D(X, theta, temp=True):\n",
    "    if temp:\n",
    "        n = X.shape[1] - 1\n",
    "    else:\n",
    "        n = X.shape[1]\n",
    "    belongs = [[], []]\n",
    "    not_belongs = [[], []]\n",
    "\n",
    "    for index in range(n):\n",
    "        if h_fun(X[:, index], theta) >= 0.5:\n",
    "            belongs[0].append(X[1, index])\n",
    "            belongs[1].append(X[2, index])\n",
    "        else:\n",
    "            not_belongs[0].append(X[1, index])\n",
    "            not_belongs[1].append(X[2, index])\n",
    "\n",
    "    return np.array(belongs), np.array(not_belongs)"
   ]
  },
  {
   "cell_type": "code",
   "execution_count": 9,
   "metadata": {
    "ExecuteTime": {
     "end_time": "2024-03-19T12:52:21.948604Z",
     "start_time": "2024-03-19T12:49:37.042708Z"
    }
   },
   "outputs": [],
   "source": [
    "theta = np.array([[0], [0], [0]])\n",
    "eps = 1e-8\n",
    "alpha = 0.0001\n",
    "\n",
    "theta = logistic_regression(X, y, theta, eps, alpha)"
   ]
  },
  {
   "cell_type": "code",
   "execution_count": 10,
   "metadata": {
    "ExecuteTime": {
     "end_time": "2024-03-19T12:52:22.059200Z",
     "start_time": "2024-03-19T12:52:21.951605Z"
    }
   },
   "outputs": [
    {
     "data": {
      "image/png": "[encoded data removed]",
      "text/plain": [
       "<Figure size 640x480 with 1 Axes>"
      ]
     },
     "metadata": {},
     "output_type": "display_data"
    }
   ],
   "source": [
    "x1_db = np.arange(X[1, :].min(), X[1, :].max(), 1)\n",
    "x2_db = -theta[0, 0]/theta[2, 0] - theta[1, 0]/theta[2, 0] * x1_db\n",
    "belongs, not_belongs = if_belongs_2D(X, theta, False)\n",
    "plt.scatter(belongs[0, :], belongs[1, :], marker='*', color='r')\n",
    "plt.scatter(not_belongs[0, :], not_belongs[1, :], marker='o', color='b')\n",
    "plt.plot(x1_db, x2_db, '-m')\n",
    "plt.show()"
   ]
  },
  {
   "cell_type": "markdown",
   "metadata": {},
   "source": [
    "### Zadanie 3"
   ]
  },
  {
   "cell_type": "code",
   "execution_count": 11,
   "metadata": {
    "ExecuteTime": {
     "end_time": "2024-03-19T12:52:22.073195Z",
     "start_time": "2024-03-19T12:52:22.061194Z"
    }
   },
   "outputs": [],
   "source": [
    "with open(\"./admission.txt\") as f:\n",
    "    csv_reader = csv.reader(f)\n",
    "    examples = []\n",
    "    for row in csv_reader:\n",
    "        examples.append([float(cell) for cell in row])\n",
    "    data = np.array(examples)\n",
    "    y = data[:, 2:3].T\n",
    "    x1 = data[:, :1].T\n",
    "    x2 = data[:, 1:2].T\n",
    "    X = np.concatenate([np.ones([1, x1.shape[1]]), x1, x2, x1**2])\n",
    "\n",
    "X_max = X.max(axis=1)\n",
    "X_max.shape = [X_max.shape[0], 1]\n",
    "X_min = X.min(axis=1)\n",
    "X_min[0] = 0\n",
    "X_min.shape = [X_min.shape[0], 1]\n",
    "X = (X - X_min) / (X_max - X_min)"
   ]
  },
  {
   "cell_type": "code",
   "execution_count": 12,
   "metadata": {
    "ExecuteTime": {
     "end_time": "2024-03-19T12:52:35.551928Z",
     "start_time": "2024-03-19T12:52:22.075196Z"
    }
   },
   "outputs": [],
   "source": [
    "theta2 = np.array([[0], [0], [0], [0]])\n",
    "eps = 1e-7\n",
    "alpha = 0.001\n",
    "\n",
    "theta2 = logistic_regression(X, y, theta2, eps, alpha)"
   ]
  },
  {
   "cell_type": "code",
   "execution_count": 13,
   "metadata": {
    "ExecuteTime": {
     "end_time": "2024-03-19T12:52:35.658417Z",
     "start_time": "2024-03-19T12:52:35.570940Z"
    }
   },
   "outputs": [
    {
     "data": {
      "image/png": "[encoded data removed]",
      "text/plain": [
       "<Figure size 640x480 with 1 Axes>"
      ]
     },
     "metadata": {},
     "output_type": "display_data"
    }
   ],
   "source": [
    "X_min2 = X[1, :].min(); X_max2 = X[1, :].max()\n",
    "x1_db = np.arange(X_min2, X_max2, 0.01)\n",
    "x2_db = -theta2[0, 0]/theta2[3, 0] - theta2[1, 0]/theta2[3, 0] * x1_db - theta2[2, 0]/theta2[3, 0] * x1_db ** 2\n",
    "\n",
    "x1_scaled = x1_db * (X_max[1] - X_min[1]) + X_min[1]\n",
    "x2_scaled = (x2_db - x2_db.min()) / (x2_db.max() - x2_db.min())\n",
    "x2_scaled = x2_scaled * (X_max[1] - X_min[1]) + X_min[1] - 14\n",
    "\n",
    "belongs, not_belongs = if_belongs_2D(X, theta2)\n",
    "plt.scatter(belongs[0, :] * (X_max[1] - X_min[1]) + X_min[1], belongs[1, :] * (X_max[1] - X_min[1]) + X_min[1], marker='*', color='r')\n",
    "plt.scatter(not_belongs[0, :] * (X_max[1] - X_min[1]) + X_min[1], not_belongs[1, :] * (X_max[1] - X_min[1]) + X_min[1], marker='o', color='b')\n",
    "plt.plot(x1_scaled, x2_scaled)\n",
    "plt.show()"
   ]
  },
  {
   "cell_type": "markdown",
   "metadata": {},
   "source": [
    "### Zadanie 4"
   ]
  },
  {
   "cell_type": "markdown",
   "metadata": {},
   "source": [
    "Wczytywanie danych"
   ]
  },
  {
   "cell_type": "code",
   "execution_count": 14,
   "metadata": {
    "ExecuteTime": {
     "end_time": "2024-03-19T12:52:35.709967Z",
     "start_time": "2024-03-19T12:52:35.662817Z"
    }
   },
   "outputs": [],
   "source": [
    "data = datasets.load_digits()\n",
    "y = data['target']\n",
    "x = data['data']\n",
    "\n",
    "x, x_test, y, y_test = train_test_split(x, y, random_state=42)"
   ]
  },
  {
   "cell_type": "markdown",
   "metadata": {},
   "source": [
    "Uczenie modelu"
   ]
  },
  {
   "cell_type": "code",
   "execution_count": null,
   "metadata": {
    "ExecuteTime": {
     "end_time": "2024-03-19T11:52:34.601620Z",
     "start_time": "2024-03-19T11:36:57.263827Z"
    }
   },
   "outputs": [
    {
     "name": "stdout",
     "output_type": "stream",
     "text": [
      "Koszt dla klasy 0: 0.02503781395441819.\n",
      "Koszt dla klasy 1: 0.08484830386365941.\n",
      "Koszt dla klasy 2: 0.034024489510708626.\n",
      "Koszt dla klasy 3: 0.06412991363263867.\n",
      "Koszt dla klasy 4: 0.03888563464815394.\n",
      "Koszt dla klasy 5: 0.04401064329598705.\n",
      "Koszt dla klasy 6: 0.036302616104109904.\n",
      "Koszt dla klasy 7: 0.039602187609986496.\n"
     ]
    }
   ],
   "source": [
    "eps = 1e-7\n",
    "alpha = 0.001\n",
    "no_of_cls = 10\n",
    "\n",
    "theta = []  # kontener na wagi kolejnych modeli\n",
    "n = x.shape[1]\n",
    "m = x.shape[0]\n",
    "x_scale = x.max()\n",
    "\n",
    "for cls_id in range(no_of_cls):\n",
    "    y_cls = (y == cls_id).astype(np.int8)  # utworzenie macierzy y dla klasy cls_id\n",
    "    y_cls.shape = [1, m]\n",
    "\n",
    "    x_tmp = np.array(x) / x_scale  # skalowanie danych, wystarczy podzielić przez maksymalną jasność w zbiorze\n",
    "    X_cls = np.concatenate([np.ones((1, m)), x_tmp.T])  # utworzenie macierzy X\n",
    "    theta_cls = np.zeros((n+1, 1))\n",
    "\n",
    "    prev_cost = 0\n",
    "    current_cost = calculate_cost(X_cls, y_cls, theta_cls)\n",
    "\n",
    "    while math.fabs(prev_cost - current_cost) > eps:\n",
    "        prev_cost = current_cost\n",
    "\n",
    "        theta_cls = logistic_regression(X_cls, y_cls, theta_cls, eps, alpha)\n",
    "\n",
    "        current_cost = calculate_cost(X_cls, y_cls, theta_cls)\n",
    "\n",
    "    print(f'Koszt dla klasy {cls_id}: {current_cost}.')\n",
    "    theta.append(theta_cls)\n"
   ]
  },
  {
   "cell_type": "markdown",
   "metadata": {},
   "source": [
    "Reczna ewaluacja i wizualizacja wynikow"
   ]
  },
  {
   "cell_type": "code",
   "execution_count": null,
   "metadata": {
    "ExecuteTime": {
     "end_time": "2024-03-19T11:52:35.082198Z",
     "start_time": "2024-03-19T11:52:34.613342Z"
    }
   },
   "outputs": [],
   "source": [
    "probabs = np.zeros(no_of_cls)\n",
    "max_example_id = x_test.shape[0]\n",
    "example_ids_size = 9\n",
    "example_ids = np.random.randint(0, max_example_id, size=example_ids_size)\n",
    "\n",
    "fig, ax = plt.subplots(3, 3)\n",
    "fig.set_size_inches(12, 12)\n",
    "fig.set_facecolor('black')\n",
    "plt.gray()\n",
    "\n",
    "for i in range(example_ids_size):\n",
    "    example_id = example_ids[i]\n",
    "    for cls_id, theta_cls in enumerate(theta):\n",
    "        x_example = np.array(x_test[example_id]) / x_scale\n",
    "        X_example = np.array([1, *x_example])\n",
    "        X_example = X_example[..., np.newaxis]\n",
    "        probabs[cls_id] = h_fun(X_example, theta_cls)\n",
    "\n",
    "    pred = np.argmax(probabs)\n",
    "    ax[int(i / 3), i % 3].imshow(x_test[example_id].reshape(8, 8), cmap='gray_r')\n",
    "    ax[int(i / 3), i % 3].axis('off')\n",
    "    ax[int(i / 3), i % 3].set_title(f\"Prediction: {pred}, Real: {y_test[example_id]}\\nExample id: {example_id}\", fontdict = {'color':'white'})\n",
    "\n",
    "plt.show()"
   ]
  },
  {
   "cell_type": "markdown",
   "metadata": {},
   "source": [
    "Tworzenie macierzy pomylek"
   ]
  },
  {
   "cell_type": "code",
   "execution_count": null,
   "metadata": {
    "ExecuteTime": {
     "end_time": "2024-03-19T11:52:35.175574Z",
     "start_time": "2024-03-19T11:52:35.085018Z"
    }
   },
   "outputs": [],
   "source": [
    "confusion_matrix = np.zeros((no_of_cls, no_of_cls))\n",
    "\n",
    "for example_id in range(0, max_example_id):\n",
    "    for cls_id, theta_cls in enumerate(theta):\n",
    "        x_example = np.array(x_test[example_id]) / x_scale\n",
    "        X_example = np.array([1, *x_example])\n",
    "        X_example = X_example[..., np.newaxis]\n",
    "        probabs[cls_id] = h_fun(X_example, theta_cls)\n",
    "\n",
    "    pred = np.argmax(probabs)\n",
    "    confusion_matrix[y_test[example_id], pred] += 1\n",
    "\n",
    "print(\"Macierz pomylek:\\n\", confusion_matrix)"
   ]
  },
  {
   "cell_type": "markdown",
   "metadata": {},
   "source": [
    "Obliczanie czulosci i precyzji"
   ]
  },
  {
   "cell_type": "code",
   "execution_count": null,
   "metadata": {
    "ExecuteTime": {
     "end_time": "2024-03-19T12:14:36.181894Z",
     "start_time": "2024-03-19T12:14:35.294451Z"
    }
   },
   "outputs": [],
   "source": [
    "report = []\n",
    "for i in range(no_of_cls):\n",
    "    TP = 0\n",
    "    FN = 0\n",
    "    FP = 0\n",
    "\n",
    "    for example_id in range(0, max_example_id):\n",
    "        for cls_id, theta_cls in enumerate(theta):\n",
    "            x_example = np.array(x_test[example_id]) / x_scale\n",
    "            X_example = np.array([1, *x_example])\n",
    "            X_example = X_example[..., np.newaxis]\n",
    "            probabs[cls_id] = h_fun(X_example, theta_cls)\n",
    "\n",
    "        pred = np.argmax(probabs)\n",
    "        if pred == y_test[example_id] and pred == i:\n",
    "            TP += 1\n",
    "        elif y_test[example_id] == i and pred != i:\n",
    "            FN += 1\n",
    "        elif y_test[example_id] != i and pred == i:\n",
    "            FP += 1\n",
    "    report.append((TP, FN, FP))\n",
    "\n",
    "\n",
    "print(\"cls | se | pp\")\n",
    "for cls, report_cls in enumerate(report):\n",
    "    TP, FN, FP = report_cls\n",
    "    TPR = TP / (TP + FN)\n",
    "    PPV = TP / (TP + FP)\n",
    "    print(f\"{cls} | {TPR:.2} | {PPV:.2}\")"
   ]
  },
  {
   "cell_type": "markdown",
   "metadata": {},
   "source": [
    "### Zadanie 5"
   ]
  },
  {
   "cell_type": "code",
   "execution_count": null,
   "metadata": {
    "ExecuteTime": {
     "end_time": "2024-03-19T12:40:32.855231Z",
     "start_time": "2024-03-19T12:40:10.812741Z"
    }
   },
   "outputs": [],
   "source": [
    "eps = 1e-7\n",
    "alpha = 0.01\n",
    "no_of_cls = 10\n",
    "\n",
    "theta = []  # kontener na wagi kolejnych modeli\n",
    "n = x.shape[1]\n",
    "m = x.shape[0]\n",
    "x_scale = x.max()\n",
    "\n",
    "for cls_id in range(no_of_cls):\n",
    "    y_cls = (y == cls_id).astype(np.int8)  # utworzenie macierzy y dla klasy cls_id\n",
    "    y_cls.shape = [1, m]\n",
    "\n",
    "    x_tmp = np.array(x) / x_scale  # skalowanie danych, wystarczy podzielić przez maksymalną jasność w zbiorze\n",
    "    x_mean = x_tmp.mean(axis=1)\n",
    "    x_mean.shape = (-1, 1)\n",
    "    x_mean = np.transpose(x_mean)\n",
    "    X_cls = np.concatenate([np.ones((1, m)), x_tmp.T])\n",
    "    X_cls = np.concatenate([X_cls, x_mean], axis=0)\n",
    "\n",
    "    theta_cls = np.zeros((n+2, 1))\n",
    "\n",
    "    prev_cost = 0\n",
    "    current_cost = calculate_cost(X_cls, y_cls, theta_cls)\n",
    "\n",
    "    while math.fabs(prev_cost - current_cost) > eps:\n",
    "        prev_cost = current_cost\n",
    "\n",
    "        theta_cls = logistic_regression(X_cls, y_cls, theta_cls, eps, alpha)\n",
    "\n",
    "        current_cost = calculate_cost(X_cls, y_cls, theta_cls)\n",
    "\n",
    "    print(f'Koszt dla klasy {cls_id}: {current_cost}.')\n",
    "    theta.append(theta_cls)"
   ]
  },
  {
   "cell_type": "code",
   "execution_count": null,
   "metadata": {
    "ExecuteTime": {
     "end_time": "2024-03-19T12:41:43.111571Z",
     "start_time": "2024-03-19T12:41:42.046913Z"
    }
   },
   "outputs": [],
   "source": [
    "probabs = np.zeros(no_of_cls)\n",
    "max_example_id = x_test.shape[0]\n",
    "example_ids_size = 9\n",
    "example_ids = np.random.randint(0, max_example_id, size=example_ids_size)\n",
    "\n",
    "fig, ax = plt.subplots(3, 3)\n",
    "fig.set_size_inches(12, 12)\n",
    "fig.set_facecolor('black')\n",
    "plt.gray()\n",
    "\n",
    "for i in range(example_ids_size):\n",
    "    example_id = example_ids[i]\n",
    "    for cls_id, theta_cls in enumerate(theta):\n",
    "        x_example = np.array(x_test[example_id]) / x_scale\n",
    "        X_example = np.array([1, *x_example, x_example.mean()])\n",
    "        X_example = X_example[..., np.newaxis]\n",
    "        probabs[cls_id] = h_fun(X_example, theta_cls)\n",
    "\n",
    "    pred = np.argmax(probabs)\n",
    "    ax[int(i / 3), i % 3].imshow(x_test[example_id].reshape(8, 8), cmap='gray_r')\n",
    "    ax[int(i / 3), i % 3].axis('off')\n",
    "    ax[int(i / 3), i % 3].set_title(f\"Prediction: {pred}, Real: {y_test[example_id]}\\nExample id: {example_id}\", fontdict = {'color':'white'})\n",
    "\n",
    "plt.show()"
   ]
  },
  {
   "cell_type": "code",
   "execution_count": null,
   "metadata": {
    "ExecuteTime": {
     "end_time": "2024-03-19T12:46:51.574825Z",
     "start_time": "2024-03-19T12:46:51.432520Z"
    }
   },
   "outputs": [],
   "source": [
    "confusion_matrix = np.zeros((no_of_cls, no_of_cls))\n",
    "\n",
    "for example_id in range(0, max_example_id):\n",
    "    for cls_id, theta_cls in enumerate(theta):\n",
    "        x_example = np.array(x_test[example_id]) / x_scale\n",
    "        X_example = np.array([1, *x_example, x_example.mean()])\n",
    "        X_example = X_example[..., np.newaxis]\n",
    "        probabs[cls_id] = h_fun(X_example, theta_cls)\n",
    "\n",
    "    pred = np.argmax(probabs)\n",
    "    confusion_matrix[y_test[example_id], pred] += 1\n",
    "\n",
    "print(\"Macierz pomylek:\\n\", confusion_matrix)"
   ]
  },
  {
   "cell_type": "code",
   "execution_count": null,
   "metadata": {
    "ExecuteTime": {
     "end_time": "2024-03-19T12:47:29.207077Z",
     "start_time": "2024-03-19T12:47:27.727783Z"
    }
   },
   "outputs": [],
   "source": [
    "report = []\n",
    "for i in range(no_of_cls):\n",
    "    TP = 0\n",
    "    FN = 0\n",
    "    FP = 0\n",
    "\n",
    "    for example_id in range(0, max_example_id):\n",
    "        for cls_id, theta_cls in enumerate(theta):\n",
    "            x_example = np.array(x_test[example_id]) / x_scale\n",
    "            X_example = np.array([1, *x_example, x_example.mean()])\n",
    "            X_example = X_example[..., np.newaxis]\n",
    "            probabs[cls_id] = h_fun(X_example, theta_cls)\n",
    "\n",
    "        pred = np.argmax(probabs)\n",
    "        if pred == y_test[example_id] and pred == i:\n",
    "            TP += 1\n",
    "        elif y_test[example_id] == i and pred != i:\n",
    "            FN += 1\n",
    "        elif y_test[example_id] != i and pred == i:\n",
    "            FP += 1\n",
    "    report.append((TP, FN, FP))\n",
    "\n",
    "\n",
    "print(\"cls | se | pp\")\n",
    "for cls, report_cls in enumerate(report):\n",
    "    TP, FN, FP = report_cls\n",
    "    TPR = TP / (TP + FN)\n",
    "    PPV = TP / (TP + FP)\n",
    "    print(f\"{cls} | {TPR:.2} | {PPV:.2}\")"
   ]
  }
 ],
 "metadata": {
  "kernelspec": {
   "display_name": "Python 3 (ipykernel)",
   "language": "python",
   "name": "python3"
  },
  "language_info": {
   "codemirror_mode": {
    "name": "ipython",
    "version": 3
   },
   "file_extension": ".py",
   "mimetype": "text/x-python",
   "name": "python",
   "nbconvert_exporter": "python",
   "pygments_lexer": "ipython3",
   "version": "3.10.7"
  }
 },
 "nbformat": 4,
 "nbformat_minor": 1
}
