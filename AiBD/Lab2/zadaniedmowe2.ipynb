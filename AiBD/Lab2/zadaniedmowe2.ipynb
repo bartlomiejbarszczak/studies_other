{
  "cells": [
    {
      "cell_type": "raw",
      "metadata": {},
      "source": [
        "---\n",
        "title: \"Gestosc prawdopodobienstwa funkcji Gaussa\"\n",
        "format: html\n",
        "editor: visual\n",
        "---"
      ],
      "id": "593bcc55"
    },
    {
      "cell_type": "markdown",
      "metadata": {},
      "source": [
        "```{subjects <- c(\"Analiza i Bazy Danych\", \"Metody Numeryczne\", \"Eksploracja danych\")}\n",
        "means <- c(71, 67, 89)\n",
        "classes <- rep(2022, times = 3)\n",
        "df <- data.frame(Przedmiot = subjects, Srednia = means, Rocznik = classes)\n",
        "\n",
        "q_data(df)\n",
        "df.print(df)\n",
        "```"
      ],
      "id": "309bae11"
    }
  ],
  "metadata": {
    "kernelspec": {
      "name": "python3",
      "language": "python",
      "display_name": "Python 3 (ipykernel)"
    }
  },
  "nbformat": 4,
  "nbformat_minor": 5
}